{
 "cells": [
  {
   "cell_type": "code",
   "execution_count": 1,
   "id": "98528e15",
   "metadata": {},
   "outputs": [],
   "source": [
    "import os\n",
    "import pandas as pd\n",
    "\n",
    "def list_image_files(directory, extensions=['.jpg']):\n",
    "    image_files = []\n",
    "    for root, dirs, files in os.walk(directory):\n",
    "        for file in files:\n",
    "            if any(file.lower().endswith(ext) for ext in extensions):\n",
    "                image_files.append(os.path.join(root, file))\n",
    "    return image_files\n",
    "\n",
    "def save_paths_to_csv(image_paths, csv_filename='image_paths.csv'):\n",
    "    data = {'Image_Path':image_paths}\n",
    "    df = pd.DataFrame(data)\n",
    "    df.to_csv(csv_filename, index=False)\n",
    "    print(f'{csv_filename} 다운 성~~~~~~~~~~공~~~~~~~~~~~')"
   ]
  },
  {
   "cell_type": "code",
   "execution_count": 2,
   "id": "0db8d1d1",
   "metadata": {},
   "outputs": [
    {
     "name": "stdout",
     "output_type": "stream",
     "text": [
      "./ambience_img_path/adventure_path.csv 다운 성~~~~~~~~~~공~~~~~~~~~~~\n",
      "./ambience_img_path/art_path.csv 다운 성~~~~~~~~~~공~~~~~~~~~~~\n",
      "./ambience_img_path/cultural_path.csv 다운 성~~~~~~~~~~공~~~~~~~~~~~\n",
      "./ambience_img_path/joyful_path.csv 다운 성~~~~~~~~~~공~~~~~~~~~~~\n",
      "./ambience_img_path/nature_path.csv 다운 성~~~~~~~~~~공~~~~~~~~~~~\n",
      "./ambience_img_path/tradition_path.csv 다운 성~~~~~~~~~~공~~~~~~~~~~~\n"
     ]
    }
   ],
   "source": [
    "ambience_img = ['adventure', 'art', 'cultural', 'joyful', 'nature', 'tradition']\n",
    "\n",
    "for img in ambience_img:\n",
    "    \n",
    "    # 디렉토리 안의 이미지 파일 목록 가져오기\n",
    "    image_directory = f'./crawled_img/{img}/'\n",
    "    image_paths = list_image_files(image_directory)\n",
    "    \n",
    "    # 이미지 파일 경로를 CSV 파일로 저장\n",
    "    csv_filename = f'./ambience_img_path/{img}_path.csv'\n",
    "    save_paths_to_csv(image_paths, csv_filename)"
   ]
  }
 ],
 "metadata": {
  "kernelspec": {
   "display_name": "Python 3 (ipykernel)",
   "language": "python",
   "name": "python3"
  },
  "language_info": {
   "codemirror_mode": {
    "name": "ipython",
    "version": 3
   },
   "file_extension": ".py",
   "mimetype": "text/x-python",
   "name": "python",
   "nbconvert_exporter": "python",
   "pygments_lexer": "ipython3",
   "version": "3.11.5"
  }
 },
 "nbformat": 4,
 "nbformat_minor": 5
}
