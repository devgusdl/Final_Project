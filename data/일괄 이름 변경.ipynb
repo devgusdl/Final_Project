{
 "cells": [
  {
   "cell_type": "code",
   "execution_count": 10,
   "id": "894c30e6-e12c-40fd-942e-576c55cc8403",
   "metadata": {},
   "outputs": [],
   "source": [
    "import os\n",
    "\n",
    "folder_path = 'C:\\\\Users\\\\김현\\\\Final_Project\\\\crawled_img\\\\tradition'\n",
    "files = os.listdir(folder_path)\n",
    "\n",
    "for index, file in enumerate(files):\n",
    "    os.rename(os.path.join(folder_path, file), os.path.join(folder_path, 'tradition_'+str(index+1)+'.jpg'))\n"
   ]
  }
 ],
 "metadata": {
  "kernelspec": {
   "display_name": "Python 3 (ipykernel)",
   "language": "python",
   "name": "python3"
  },
  "language_info": {
   "codemirror_mode": {
    "name": "ipython",
    "version": 3
   },
   "file_extension": ".py",
   "mimetype": "text/x-python",
   "name": "python",
   "nbconvert_exporter": "python",
   "pygments_lexer": "ipython3",
   "version": "3.10.10"
  }
 },
 "nbformat": 4,
 "nbformat_minor": 5
}
