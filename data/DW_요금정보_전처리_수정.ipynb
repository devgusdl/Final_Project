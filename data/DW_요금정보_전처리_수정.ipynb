{
 "cells": [
  {
   "cell_type": "markdown",
   "id": "a0ada952",
   "metadata": {},
   "source": [
    "### 📍 요금정보 ['이용요금', '입장료', '상세정보'] : 유료/무료 형태로\n",
    "    - '유/무료 여부' 컬럼 새로 생성"
   ]
  },
  {
   "cell_type": "code",
   "execution_count": null,
   "id": "6d19f0fb",
   "metadata": {},
   "outputs": [],
   "source": [
    "# '유/무료 여부' 컬럼을 생성하고, 모든 행을 'X'로 초기화\n",
    "df_fin = df_fin.withColumn('유/무료 여부', lit('X'))"
   ]
  },
  {
   "cell_type": "code",
   "execution_count": null,
   "id": "43204d7f",
   "metadata": {},
   "outputs": [],
   "source": [
    "### 1. 관광지 분류 == '레포츠'\n",
    "from pyspark.sql.functions import coalesce\n",
    "\n",
    "# '결제정보' 컬럼 생성\n",
    "df_fin = df_fin.withColumn('결제정보', when(col('관광지 분류') == '레포츠', concat_ws(' ', coalesce(col('이용요금').cast('string'), ''), coalesce(col('상세정보'), ''))).otherwise(col('결제정보')))\n",
    "\n",
    "# '무료' 및 '유료' 여부 확인\n",
    "keywords = ['무료', r'\\d+천원', r'\\d+원']\n",
    "filtered_rows = expr(\"rlike(결제정보, '{}') AND NOT (rlike(결제정보, '{}') OR rlike(결제정보, '{}'))\".format('|'.join(keywords), r'\\d+천원', r'\\d+원'))\n",
    "\n",
    "paid_kw = [r'\\d+천원', r'\\d+원']\n",
    "paid_rows = expr(\"rlike(결제정보, '{}') OR rlike(결제정보, '{}')\".format(*paid_kw))\n",
    "\n",
    "\n",
    "\n",
    "# '유/무료 여부' 컬럼 생성\n",
    "df_fin = df_fin.withColumn('유/무료 여부', when((col('관광지 분류') == '레포츠') & filtered_rows, '무료')\n",
    "                                .when((col('관광지 분류') == '레포츠') & paid_rows, '유료')\n",
    "                                .otherwise('알 수 없음'))\n",
    "# '결제정보' 컬럼 제거\n",
    "df_fin = df_fin.drop('결제정보')\n",
    "\n",
    "# 결과 표시\n",
    "df_fin.select('유/무료 여부').show()\n"
   ]
  },
  {
   "cell_type": "code",
   "execution_count": null,
   "id": "b0511164",
   "metadata": {},
   "outputs": [],
   "source": [
    "### 2. 관광지분류 == '인문관광지'\n",
    "\n",
    "filtered_rows = col('관광지 분류') == '인문관광지'\n",
    "\n",
    "# '무료'에 해당하는 키워드\n",
    "free_keywords = ['입 장 료:없음', '입 장 료:무료', '시설이용료:없음', '시설이용료:무료', '입장료 무료', '입장료 없음']\n",
    "\n",
    "# '유료'에 해당하는 키워드\n",
    "paid_keywords = [r'\\d+천원', r'\\d+원']\n",
    "\n",
    "# '유/무료 여부' 컬럼 설정\n",
    "df_fin = df_fin.withColumn('유/무료 여부',\n",
    "                          when(filtered_rows & col('상세정보').isNotNull() & col('상세정보').rlike('|'.join(free_keywords)), '무료')\n",
    "                          .when(filtered_rows & col('상세정보').isNotNull() & col('상세정보').rlike('|'.join(paid_keywords)), '유료')\n",
    "                          .otherwise('알 수 없음'))"
   ]
  },
  {
   "cell_type": "code",
   "execution_count": null,
   "id": "bfe802a0",
   "metadata": {},
   "outputs": [],
   "source": [
    "### 3. 관광지분류 == '문화시설', '축제공연행사'\n",
    "\n",
    "# '문화시설' 및 '축제공연행사'에 해당하는 행 필터링\n",
    "filtered_rows = (col('관광지 분류').isin('문화시설', '축제공연행사'))\n",
    "\n",
    "# '무료'에 해당하는 키워드\n",
    "free_keywords = ['무료', '이용요금 없음']\n",
    "\n",
    "# '유료'에 해당하는 키워드\n",
    "paid_keywords = [r'\\d+천원', r'\\d+원', '유료']\n",
    "\n",
    "# '유/무료 여부' 컬럼 설정\n",
    "df_fin = df_fin.withColumn('유/무료 여부', \n",
    "                          when(filtered_rows & col('이용요금').rlike('|'.join(free_keywords)), '무료')\n",
    "                          .when(filtered_rows & col('이용요금').rlike('|'.join(paid_keywords)), '유료')\n",
    "                          .otherwise('알 수 없음'))\n"
   ]
  }
 ],
 "metadata": {
  "kernelspec": {
   "display_name": "Python 3 (ipykernel)",
   "language": "python",
   "name": "python3"
  },
  "language_info": {
   "codemirror_mode": {
    "name": "ipython",
    "version": 3
   },
   "file_extension": ".py",
   "mimetype": "text/x-python",
   "name": "python",
   "nbconvert_exporter": "python",
   "pygments_lexer": "ipython3",
   "version": "3.11.5"
  }
 },
 "nbformat": 4,
 "nbformat_minor": 5
}
